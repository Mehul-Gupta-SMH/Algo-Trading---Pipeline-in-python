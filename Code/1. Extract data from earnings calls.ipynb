{
 "cells": [
  {
   "cell_type": "markdown",
   "id": "8d949987",
   "metadata": {},
   "source": [
    "# 1. Extract data from earnings calls"
   ]
  },
  {
   "cell_type": "markdown",
   "id": "ae8d14fa",
   "metadata": {},
   "source": [
    "## Adding required packages"
   ]
  },
  {
   "cell_type": "markdown",
   "id": "7168433c",
   "metadata": {},
   "source": [
    "1. *Selenium* : https://www.selenium.dev/\n",
    "2. *Beautiful Soup* : https://beautiful-soup-4.readthedocs.io/en/latest/\n",
    "3. *WebDriver Manager* : https://www.selenium.dev/documentation/webdriver/getting_started/install_drivers/"
   ]
  },
  {
   "cell_type": "code",
   "execution_count": 1,
   "id": "abbbee8e",
   "metadata": {
    "scrolled": true
   },
   "outputs": [],
   "source": [
    "# !pip install selenium\n",
    "# !pip install beautifulsoup4\n",
    "# !pip3 install webdriver-manager"
   ]
  },
  {
   "cell_type": "markdown",
   "id": "9b2511b4",
   "metadata": {},
   "source": [
    "## Importing Selenium and Drivers"
   ]
  },
  {
   "cell_type": "code",
   "execution_count": 2,
   "id": "25ef9030",
   "metadata": {},
   "outputs": [],
   "source": [
    "from selenium import webdriver\n",
    "from selenium.webdriver.chrome.service import Service\n",
    "from webdriver_manager.chrome import ChromeDriverManager"
   ]
  },
  {
   "cell_type": "markdown",
   "id": "7cd626bd",
   "metadata": {},
   "source": [
    "## Importing Data Processing Libs"
   ]
  },
  {
   "cell_type": "code",
   "execution_count": 3,
   "id": "f13f73aa",
   "metadata": {},
   "outputs": [],
   "source": [
    "from bs4 import BeautifulSoup\n",
    "import pandas as pd\n",
    "import re\n",
    "import time"
   ]
  },
  {
   "cell_type": "code",
   "execution_count": 4,
   "id": "0e918992",
   "metadata": {},
   "outputs": [],
   "source": [
    "driver = webdriver.Chrome(service=Service(ChromeDriverManager().install()))\n",
    "driver.get(\"https://www.google.com\")"
   ]
  },
  {
   "cell_type": "code",
   "execution_count": 5,
   "id": "aae27ed2",
   "metadata": {},
   "outputs": [],
   "source": [
    "def extract_urls(driver_data,params_bs4_filter : dict) -> list:\n",
    "    \n",
    "    page_content_str = None\n",
    "    bs4_soup_data_list = None\n",
    "    parsed_links_list = []\n",
    "    \n",
    "    page_content_str = driver_data.page_source\n",
    "    bs4_soup_data_list = BeautifulSoup(page_content_str)\n",
    "    \n",
    "    for links in bs4_soup_data_list.findAll(params_bs4_filter['name'],\n",
    "                                            href=params_bs4_filter['href'], \n",
    "                                            attrs=params_bs4_filter['attrs'],\n",
    "                                            recursive=params_bs4_filter['recursive']):\n",
    "        link = links['href']\n",
    "        header = links.contents[0]\n",
    "        \n",
    "        parsed_links_list.append([header,link])\n",
    "    \n",
    "    return parsed_links_list"
   ]
  },
  {
   "cell_type": "code",
   "execution_count": 6,
   "id": "1ff76155",
   "metadata": {},
   "outputs": [],
   "source": [
    "def url_validator(url:str):\n",
    "    regex = re.compile(\n",
    "            r'^(?:http|ftp)s?://' # http:// or https://\n",
    "            r'(?:(?:[A-Z0-9](?:[A-Z0-9-]{0,61}[A-Z0-9])?\\.)+(?:[A-Z]{2,6}\\.?|[A-Z0-9-]{2,}\\.?)|' #domain...\n",
    "            r'localhost|' #localhost...\n",
    "            r'\\d{1,3}\\.\\d{1,3}\\.\\d{1,3}\\.\\d{1,3})' # ...or ip\n",
    "            r'(?::\\d+)?' # optional port\n",
    "            r'(?:/?|[/?]\\S+)$', re.IGNORECASE)\n",
    "    \n",
    "    if re.match(regex, url):\n",
    "        return True\n",
    "    \n",
    "    return False"
   ]
  },
  {
   "cell_type": "code",
   "execution_count": 7,
   "id": "bf962e80",
   "metadata": {},
   "outputs": [],
   "source": [
    "def parse_page_data(url:str,params_iter : dict,params_bs4_filter : dict):\n",
    "    \n",
    "    embedded_url_list = []\n",
    "    \n",
    "    SCROLL_PAUSE_TIME = params_iter['scroll_wait_time']\n",
    "    \n",
    "    driver = webdriver.Chrome(service=Service(ChromeDriverManager().install()))\n",
    "    \n",
    "    if not url_validator(url):\n",
    "        raise ValueError(\"The URL \"&url&\" is not a valid URL format\")\n",
    "        pass\n",
    "    \n",
    "    driver.get(url)\n",
    "    \n",
    "    last_height = driver.execute_script(\"return document.body.scrollHeight\")\n",
    "    \n",
    "    iteration = 0\n",
    "    while True:\n",
    "        \n",
    "        iteration += 1\n",
    "        \n",
    "        driver.execute_script(\"window.scrollTo(0, document.body.scrollHeight);\")\n",
    "    \n",
    "        time.sleep(SCROLL_PAUSE_TIME)\n",
    "        \n",
    "        new_height = driver.execute_script(\"return document.body.scrollHeight\")\n",
    "        \n",
    "        if (new_height == last_height) or (iteration == params_iter['iter_threshold']):\n",
    "            break\n",
    "        \n",
    "    new_results = extract_urls(driver,params_bs4_filter)\n",
    "    \n",
    "    extracted_url_df = pd.DataFrame(new_results,columns=['header','link'])\n",
    "    \n",
    "    extracted_url_df = extracted_url_df[~extracted_url_df['header'].str.contains(\"\\[\",na=True)]\n",
    "    \n",
    "    extracted_url_df.reset_index()\n",
    "    \n",
    "    return extracted_url_df\n",
    "\n",
    "        "
   ]
  },
  {
   "cell_type": "code",
   "execution_count": 8,
   "id": "64957a60",
   "metadata": {},
   "outputs": [],
   "source": [
    "url = \"https://alphastreet.com/india/earnings-call-transcripts/\"\n",
    "\n",
    "params_bs4_filter = {}\n",
    "params_bs4_filter['name'] = 'a'\n",
    "params_bs4_filter['href'] = True\n",
    "params_bs4_filter['attrs'] = {'rel':'bookmark'}\n",
    "params_bs4_filter['recursive'] = True\n",
    "\n",
    "params_iter = {}\n",
    "params_iter['scroll_wait_time'] = 5.0\n",
    "params_iter['iter_threshold'] = 2\n",
    "\n",
    "extracted_url_df = parse_page_data(url , params_iter , params_bs4_filter)"
   ]
  },
  {
   "cell_type": "code",
   "execution_count": 9,
   "id": "8d8000c1",
   "metadata": {},
   "outputs": [
    {
     "data": {
      "text/html": [
       "<div>\n",
       "<style scoped>\n",
       "    .dataframe tbody tr th:only-of-type {\n",
       "        vertical-align: middle;\n",
       "    }\n",
       "\n",
       "    .dataframe tbody tr th {\n",
       "        vertical-align: top;\n",
       "    }\n",
       "\n",
       "    .dataframe thead th {\n",
       "        text-align: right;\n",
       "    }\n",
       "</style>\n",
       "<table border=\"1\" class=\"dataframe\">\n",
       "  <thead>\n",
       "    <tr style=\"text-align: right;\">\n",
       "      <th></th>\n",
       "      <th>header</th>\n",
       "      <th>link</th>\n",
       "    </tr>\n",
       "  </thead>\n",
       "  <tbody>\n",
       "    <tr>\n",
       "      <th>0</th>\n",
       "      <td>SBI Cards and Payment Services Ltd (SBICARD) Q...</td>\n",
       "      <td>https://alphastreet.com/india/sbi-cards-and-pa...</td>\n",
       "    </tr>\n",
       "    <tr>\n",
       "      <th>3</th>\n",
       "      <td>SBI Cards and Payment Services Ltd (SBICARD) Q...</td>\n",
       "      <td>https://alphastreet.com/india/sbi-cards-and-pa...</td>\n",
       "    </tr>\n",
       "    <tr>\n",
       "      <th>5</th>\n",
       "      <td>Star Health and Allied Insurance Co Ltd (STARH...</td>\n",
       "      <td>https://alphastreet.com/india/star-health-and-...</td>\n",
       "    </tr>\n",
       "    <tr>\n",
       "      <th>7</th>\n",
       "      <td>CSB Bank Limited (CSBBANK) Q4 FY23 Earnings Co...</td>\n",
       "      <td>https://alphastreet.com/india/csb-bank-limited...</td>\n",
       "    </tr>\n",
       "    <tr>\n",
       "      <th>9</th>\n",
       "      <td>Mahindra &amp; Mahindra Financial Services Limited...</td>\n",
       "      <td>https://alphastreet.com/india/mahindra-mahindr...</td>\n",
       "    </tr>\n",
       "    <tr>\n",
       "      <th>...</th>\n",
       "      <td>...</td>\n",
       "      <td>...</td>\n",
       "    </tr>\n",
       "    <tr>\n",
       "      <th>125</th>\n",
       "      <td>AU Small Finance Bank Ltd (AUBANK) Q4 FY23 Ear...</td>\n",
       "      <td>https://alphastreet.com/india/au-small-finance...</td>\n",
       "    </tr>\n",
       "    <tr>\n",
       "      <th>127</th>\n",
       "      <td>Bajaj Auto Limited (BAJAJAUTO) Q4 FY23 Earning...</td>\n",
       "      <td>https://alphastreet.com/india/bajaj-auto-limit...</td>\n",
       "    </tr>\n",
       "    <tr>\n",
       "      <th>129</th>\n",
       "      <td>HDFC Asset Management Company Ltd (HDFCAMC) Q4...</td>\n",
       "      <td>https://alphastreet.com/india/hdfc-asset-manag...</td>\n",
       "    </tr>\n",
       "    <tr>\n",
       "      <th>131</th>\n",
       "      <td>Meghmani Finechem Limited (MFL) Q4 FY23 Earnin...</td>\n",
       "      <td>https://alphastreet.com/india/meghmani-fineche...</td>\n",
       "    </tr>\n",
       "    <tr>\n",
       "      <th>133</th>\n",
       "      <td>Mahindra Logistics Ltd (MAHLOG) Q4 FY23 Earnin...</td>\n",
       "      <td>https://alphastreet.com/india/mahindra-logisti...</td>\n",
       "    </tr>\n",
       "  </tbody>\n",
       "</table>\n",
       "<p>66 rows × 2 columns</p>\n",
       "</div>"
      ],
      "text/plain": [
       "                                                header  \\\n",
       "0    SBI Cards and Payment Services Ltd (SBICARD) Q...   \n",
       "3    SBI Cards and Payment Services Ltd (SBICARD) Q...   \n",
       "5    Star Health and Allied Insurance Co Ltd (STARH...   \n",
       "7    CSB Bank Limited (CSBBANK) Q4 FY23 Earnings Co...   \n",
       "9    Mahindra & Mahindra Financial Services Limited...   \n",
       "..                                                 ...   \n",
       "125  AU Small Finance Bank Ltd (AUBANK) Q4 FY23 Ear...   \n",
       "127  Bajaj Auto Limited (BAJAJAUTO) Q4 FY23 Earning...   \n",
       "129  HDFC Asset Management Company Ltd (HDFCAMC) Q4...   \n",
       "131  Meghmani Finechem Limited (MFL) Q4 FY23 Earnin...   \n",
       "133  Mahindra Logistics Ltd (MAHLOG) Q4 FY23 Earnin...   \n",
       "\n",
       "                                                  link  \n",
       "0    https://alphastreet.com/india/sbi-cards-and-pa...  \n",
       "3    https://alphastreet.com/india/sbi-cards-and-pa...  \n",
       "5    https://alphastreet.com/india/star-health-and-...  \n",
       "7    https://alphastreet.com/india/csb-bank-limited...  \n",
       "9    https://alphastreet.com/india/mahindra-mahindr...  \n",
       "..                                                 ...  \n",
       "125  https://alphastreet.com/india/au-small-finance...  \n",
       "127  https://alphastreet.com/india/bajaj-auto-limit...  \n",
       "129  https://alphastreet.com/india/hdfc-asset-manag...  \n",
       "131  https://alphastreet.com/india/meghmani-fineche...  \n",
       "133  https://alphastreet.com/india/mahindra-logisti...  \n",
       "\n",
       "[66 rows x 2 columns]"
      ]
     },
     "execution_count": 9,
     "metadata": {},
     "output_type": "execute_result"
    }
   ],
   "source": [
    "extracted_url_df"
   ]
  },
  {
   "cell_type": "code",
   "execution_count": null,
   "id": "8a5c7fbe",
   "metadata": {},
   "outputs": [],
   "source": []
  }
 ],
 "metadata": {
  "kernelspec": {
   "display_name": "Python 3 (ipykernel)",
   "language": "python",
   "name": "python3"
  },
  "language_info": {
   "codemirror_mode": {
    "name": "ipython",
    "version": 3
   },
   "file_extension": ".py",
   "mimetype": "text/x-python",
   "name": "python",
   "nbconvert_exporter": "python",
   "pygments_lexer": "ipython3",
   "version": "3.10.9"
  }
 },
 "nbformat": 4,
 "nbformat_minor": 5
}
