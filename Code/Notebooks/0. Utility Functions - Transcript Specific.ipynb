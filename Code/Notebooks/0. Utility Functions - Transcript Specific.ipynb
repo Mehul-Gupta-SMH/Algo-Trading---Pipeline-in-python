{
 "cells": [
  {
   "cell_type": "markdown",
   "id": "a51d11a9",
   "metadata": {},
   "source": [
    "## Importing Data Processing Libs"
   ]
  },
  {
   "cell_type": "code",
   "execution_count": null,
   "id": "a3bbbd41",
   "metadata": {},
   "outputs": [],
   "source": [
    "import re\n",
    "import requests"
   ]
  },
  {
   "cell_type": "markdown",
   "id": "35917936",
   "metadata": {},
   "source": [
    "## Function Definition"
   ]
  },
  {
   "cell_type": "code",
   "execution_count": null,
   "id": "69bec2c4",
   "metadata": {},
   "outputs": [],
   "source": [
    "def url_validator(url:str) -> bool:\n",
    "    \"\"\"\n",
    "    \n",
    "    Validates if the url have correct format\n",
    "    ------------------------------------\n",
    "    \n",
    "    Input:\n",
    "    url (str) : url string to be checked \n",
    "    \n",
    "    ------------------------------------\n",
    "    Output:\n",
    "    Bool \n",
    "    \n",
    "    \"\"\"\n",
    "    regex = re.compile(\n",
    "            r'^(?:http|ftp)s?://' # http:// or https://\n",
    "            r'(?:(?:[A-Z0-9](?:[A-Z0-9-]{0,61}[A-Z0-9])?\\.)+(?:[A-Z]{2,6}\\.?|[A-Z0-9-]{2,}\\.?)|' #domain...\n",
    "            r'localhost|' #localhost...\n",
    "            r'\\d{1,3}\\.\\d{1,3}\\.\\d{1,3}\\.\\d{1,3})' # ...or ip\n",
    "            r'(?::\\d+)?' # optional port\n",
    "            r'(?:/?|[/?]\\S+)$', re.IGNORECASE)\n",
    "    \n",
    "    if re.match(regex, url):\n",
    "        return True\n",
    "    \n",
    "    return False"
   ]
  },
  {
   "cell_type": "code",
   "execution_count": null,
   "id": "c3b49ac5",
   "metadata": {},
   "outputs": [],
   "source": [
    "def get_ticker(transcript_header:str) -> str:\n",
    "    \"\"\"\n",
    "    \n",
    "    Parses out the ticker symbol from the transcript's header \n",
    "    ------------------------------------\n",
    "    \n",
    "    Input:\n",
    "    transcript_header (str) : header of the transcripts \n",
    "    \n",
    "    ------------------------------------\n",
    "    Output:\n",
    "    ticker_cd (str) : Ticker Symbol Code \n",
    "    \n",
    "    \"\"\"    \n",
    "    try:\n",
    "        ticker_cd = transcript_header[transcript_header.find(r'(')+1 : transcript_header.find(r')')]\n",
    "        return ticker_cd\n",
    "    except:\n",
    "        return ''"
   ]
  },
  {
   "cell_type": "code",
   "execution_count": null,
   "id": "7876c745",
   "metadata": {},
   "outputs": [],
   "source": [
    "def get_metadata(company_name:str):\n",
    "    \"\"\"\n",
    "    \n",
    "    Get ticker symbol from Company Name\n",
    "    ------------------------------------\n",
    "    \n",
    "    Input:\n",
    "    company_name (str) : Company Name\n",
    "    \n",
    "    ------------------------------------\n",
    "    Output:\n",
    "    company_code (str) : Company code from Yahoo Finance  \n",
    "    \n",
    "    \"\"\"    \n",
    "    \n",
    "    yfinance = \"https://query2.finance.yahoo.com/v1/finance/search\"\n",
    "    user_agent = 'Mozilla/5.0 (Windows NT 10.0; Win64; x64) AppleWebKit/537.36 (KHTML, like Gecko) Chrome/108.0.0.0 Safari/537.36'\n",
    "    params = {\"q\": company_name, \"quotes_count\": 1, \"country\": \"United States\"}\n",
    "\n",
    "    \n",
    "    res = requests.get(url=yfinance, params=params, headers={'User-Agent': user_agent})\n",
    "    data = res.json()\n",
    "\n",
    "    try:\n",
    "        meta_data = data['quotes'][0]\n",
    "\n",
    "        exchange = meta_data['exchange']\n",
    "        sector = meta_data['sector']\n",
    "        industry = meta_data['industry']\n",
    "    \n",
    "    except:\n",
    "        exchange = ''\n",
    "        sector = ''\n",
    "        industry = ''\n",
    "    \n",
    "    return [ exchange , sector , industry]"
   ]
  }
 ],
 "metadata": {
  "kernelspec": {
   "display_name": "Python 3 (ipykernel)",
   "language": "python",
   "name": "python3"
  },
  "language_info": {
   "codemirror_mode": {
    "name": "ipython",
    "version": 3
   },
   "file_extension": ".py",
   "mimetype": "text/x-python",
   "name": "python",
   "nbconvert_exporter": "python",
   "pygments_lexer": "ipython3",
   "version": "3.10.9"
  }
 },
 "nbformat": 4,
 "nbformat_minor": 5
}
